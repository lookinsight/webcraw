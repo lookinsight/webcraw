{
 "cells": [
  {
   "cell_type": "markdown",
   "metadata": {},
   "source": [
    "# 크롤링\n",
    "\n",
    "- 웹에서 원하는 자료를 컴퓨터에서 수집해 오도록 하는 기술\n",
    "- requests 라이브러리를 활용한 브라우저 없는 크롤링\n",
    "- selenium 라이브러리를 활용한 물리 드라이버 크롤링\n",
    "- urllib 라이브러리를 활용한 api 크롤링 등\n",
    "- 크롤러의 역할은 원하는 정보를 포함한 자료를 수집해 오는 것 까지\n",
    "- 실제 원하는 데이터를 용도에 맞게 처리하는 것은 beautifulsoup 담당."
   ]
  },
  {
   "cell_type": "markdown",
   "metadata": {},
   "source": [
    "#### selenium 설치\n",
    "\n",
    "- anaconda navigator 에서 좌측 enviroment 선택\n",
    "- 중간 base(root) 우측에 붙은 재생버튼 클릭 > open terminal 선택\n",
    "- 열리는 cmd 창에서 pip install selenium 입력"
   ]
  },
  {
   "cell_type": "code",
   "execution_count": 5,
   "metadata": {},
   "outputs": [],
   "source": [
    "# 크롤링 작업을 위한 라이브러리 임포트\n",
    "from bs4 import BeautifulSoup\n",
    "from selenium import webdriver\n",
    "import requests \n",
    "\n",
    "# 코드 진행 지연을 위한 time 임포트\n",
    "import time"
   ]
  },
  {
   "cell_type": "markdown",
   "metadata": {},
   "source": [
    "# 크롬드라이버 다운받기\n",
    "\n",
    "1. 크롬창 우측 상단 메뉴 클릭\n",
    "2. 밑에서 두 번째에 있는 \"도움말\" 항목에 마우스 갖다대기\n",
    "3. Chrome정보 클릭하기\n",
    "4. Chrome정보에 나온 버전(강사 컴퓨터는 현재 크롬 101버전 사용중) 확인하기\n",
    "5. https://chromedriver.chromium.org/downloads\n",
    "   위 주소로 접속해서 버전에 맞는 다운로드 링크로 가기\n",
    "   \n",
    "6. chromedriver zip파일 받아서 내부 chromedriver.exe파일에 대한 압축을 주피터노트북 코드가 있는 쪽에 풀기\n",
    "   (window -> win32, 리눅스 맥 등은 맞는버전으로)"
   ]
  },
  {
   "cell_type": "code",
   "execution_count": 8,
   "metadata": {},
   "outputs": [],
   "source": [
    "# driver 라는 변수를 이용해 물리 브라우저를 제어합니다.\n",
    "driver = webdriver.Chrome('chromedriver')\n",
    "\n",
    "# 딜레이 1초\n",
    "# time.sleep(지연시간(초)) 입력시 해당 시간만큼 코드 실행이 지연된다.\n",
    "time.sleep(2)\n",
    "\n",
    "# .get(접속주소)를 입력하면 브라우저가 해당 주소로 접속한다\n",
    "driver.get(\"http://naver.com\")\n",
    "\n",
    "time.sleep(2)\n",
    "\n",
    "# 브라우저를 다 쓰면 닫아줘야 메모리 절약이 됨\n",
    "driver.close()"
   ]
  },
  {
   "cell_type": "code",
   "execution_count": null,
   "metadata": {},
   "outputs": [],
   "source": []
  },
  {
   "cell_type": "code",
   "execution_count": null,
   "metadata": {},
   "outputs": [],
   "source": []
  },
  {
   "cell_type": "code",
   "execution_count": null,
   "metadata": {},
   "outputs": [],
   "source": []
  },
  {
   "cell_type": "code",
   "execution_count": null,
   "metadata": {},
   "outputs": [],
   "source": []
  },
  {
   "cell_type": "code",
   "execution_count": null,
   "metadata": {},
   "outputs": [],
   "source": []
  },
  {
   "cell_type": "code",
   "execution_count": null,
   "metadata": {},
   "outputs": [],
   "source": []
  },
  {
   "cell_type": "code",
   "execution_count": null,
   "metadata": {},
   "outputs": [],
   "source": []
  },
  {
   "cell_type": "code",
   "execution_count": null,
   "metadata": {},
   "outputs": [],
   "source": []
  },
  {
   "cell_type": "code",
   "execution_count": null,
   "metadata": {},
   "outputs": [],
   "source": []
  },
  {
   "cell_type": "code",
   "execution_count": null,
   "metadata": {},
   "outputs": [],
   "source": []
  },
  {
   "cell_type": "code",
   "execution_count": null,
   "metadata": {},
   "outputs": [],
   "source": []
  },
  {
   "cell_type": "code",
   "execution_count": null,
   "metadata": {},
   "outputs": [],
   "source": []
  },
  {
   "cell_type": "code",
   "execution_count": null,
   "metadata": {},
   "outputs": [],
   "source": []
  },
  {
   "cell_type": "code",
   "execution_count": null,
   "metadata": {},
   "outputs": [],
   "source": []
  },
  {
   "cell_type": "code",
   "execution_count": null,
   "metadata": {},
   "outputs": [],
   "source": []
  },
  {
   "cell_type": "code",
   "execution_count": null,
   "metadata": {},
   "outputs": [],
   "source": []
  },
  {
   "cell_type": "code",
   "execution_count": null,
   "metadata": {},
   "outputs": [],
   "source": []
  }
 ],
 "metadata": {
  "kernelspec": {
   "display_name": "Python 3.9.12 ('base')",
   "language": "python",
   "name": "python3"
  },
  "language_info": {
   "codemirror_mode": {
    "name": "ipython",
    "version": 3
   },
   "file_extension": ".py",
   "mimetype": "text/x-python",
   "name": "python",
   "nbconvert_exporter": "python",
   "pygments_lexer": "ipython3",
   "version": "3.9.12"
  },
  "orig_nbformat": 4,
  "vscode": {
   "interpreter": {
    "hash": "ca71aff40853dd846130b67975d07637ec6294bee047a07657cfc9075e3162be"
   }
  }
 },
 "nbformat": 4,
 "nbformat_minor": 2
}
